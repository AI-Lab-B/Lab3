{
  "nbformat": 4,
  "nbformat_minor": 0,
  "metadata": {
    "colab": {
      "provenance": []
    },
    "kernelspec": {
      "name": "python3",
      "display_name": "Python 3"
    },
    "language_info": {
      "name": "python"
    }
  },
  "cells": [
    {
      "cell_type": "markdown",
      "source": [
        "## Question 1"
      ],
      "metadata": {
        "id": "xWiNZvY_DFog"
      }
    },
    {
      "cell_type": "code",
      "source": [
        "from collections import deque"
      ],
      "metadata": {
        "id": "9xKsIZO4zln2"
      },
      "execution_count": 1,
      "outputs": []
    },
    {
      "cell_type": "code",
      "source": [
        "from logging import currentframe\n",
        "def find_shortest_path(matrix):\n",
        "  # Directions: Up, Down, Left, Right\n",
        "  directions = [(-1, 0), (1, 0), (0, -1), (0, 1)]\n",
        "  # Initialize starting and ending positions\n",
        "  start = (0, 0)\n",
        "  end = (3, 3)\n",
        "  # Initialize data structures for BFS\n",
        "  queue = deque() # Use deque for BFS\n",
        "  visited = set() # Track visited positions\n",
        "  queue.append([(start,[start])])\n",
        "  # BFS Loop\n",
        "  while len(queue)>0:\n",
        "  # Dequeue the next position\n",
        "    #print(queue)\n",
        "    temp = queue.popleft()\n",
        "    current=temp[0][0]\n",
        "    path=temp[0][1]\n",
        "    # print(current)\n",
        "    # print(path)\n",
        "  # Check if HOME is reached\n",
        "    if current == end:\n",
        "      return path # Return the shortest path\n",
        "  # Mark the position as visited\n",
        "    visited.add(current)\n",
        "  # Explore neighboring cells (non-diagonal and not obstacles)\n",
        "    for direction in directions:\n",
        "      next_cell = (current[0] + direction[0], current[1] + direction[1])\n",
        "    #print(next_cell)\n",
        "    #  print(visited)\n",
        "    #  print(next_cell not in visited)\n",
        "      if next_cell not in visited and 0 <= next_cell[0] < len(matrix) and 0 <= next_cell[1] < len(matrix[0]) and matrix[next_cell[0]][next_cell[1]] == 1:\n",
        "      #\n",
        "        queue.append([(next_cell,path+[next_cell])])\n",
        "    #print(len(queue))\n",
        "  #Return the shortest path If found, else indicate no path\n",
        "  return None"
      ],
      "metadata": {
        "id": "Nubm-ghf1Llu"
      },
      "execution_count": 117,
      "outputs": []
    },
    {
      "cell_type": "code",
      "source": [
        "matrix = [[1, 1, 1, 1],\n",
        "          [1, 0, 1, 1],\n",
        "          [1, 1, 0, 1],\n",
        "          [1, 1, 1, 1]]\n"
      ],
      "metadata": {
        "id": "6VMLR8Fl4sLw"
      },
      "execution_count": 118,
      "outputs": []
    },
    {
      "cell_type": "code",
      "source": [
        "find_shortest_path(matrix)"
      ],
      "metadata": {
        "colab": {
          "base_uri": "https://localhost:8080/"
        },
        "id": "-mzhHCbW5IYA",
        "outputId": "58427f25-323f-41be-8901-597289529c05"
      },
      "execution_count": 120,
      "outputs": [
        {
          "output_type": "execute_result",
          "data": {
            "text/plain": [
              "[(0, 0), (1, 0), (2, 0), (3, 0), (3, 1), (3, 2), (3, 3)]"
            ]
          },
          "metadata": {},
          "execution_count": 120
        }
      ]
    },
    {
      "cell_type": "markdown",
      "source": [
        "## Question 2"
      ],
      "metadata": {
        "id": "B8sTHO5LDJEf"
      }
    },
    {
      "cell_type": "code",
      "source": [
        "import time"
      ],
      "metadata": {
        "id": "BW-ey7kZDOv2"
      },
      "execution_count": 2,
      "outputs": []
    },
    {
      "cell_type": "code",
      "source": [
        "\n",
        "def state_to_tuple(state):\n",
        "  \"\"\"Convert a string state to a tuple representation.\"\"\"\n",
        "  return ((state[0],state[1],state[2]),\n",
        "          (state[3],state[4],state[5]),\n",
        "          (state[6],state[7],state[8]))"
      ],
      "metadata": {
        "id": "C6kly5HuDQMG"
      },
      "execution_count": 3,
      "outputs": []
    },
    {
      "cell_type": "code",
      "source": [
        "def tuple_to_state(matrix):\n",
        "  \"\"\"Convert a tuple representation back to a string state.\"\"\"\n",
        "  return ''.join(matrix[0]) + ''.join(matrix[1]) + ''.join(matrix[2])\n"
      ],
      "metadata": {
        "id": "PPUPh5zlDR3d"
      },
      "execution_count": 4,
      "outputs": []
    },
    {
      "cell_type": "code",
      "source": [
        "def get_moves(matrix):\n",
        "  \"\"\"Generate possible moves from the given state.\"\"\"\n",
        "  moves = []\n",
        "  for i in range(3):\n",
        "    for j in range(3):\n",
        "      if matrix[i][j] == '0':\n",
        "        empty_row, empty_col = i, j\n",
        "        break\n",
        "    else:\n",
        "      continue\n",
        "    break\n",
        "\n",
        "  directions = [(-1, 0), (1, 0), (0, -1), (0, 1)]\n",
        "\n",
        "\n",
        "  for direction in directions:\n",
        "    new_row, new_col = empty_row + direction[0], empty_col + direction[1]\n",
        "\n",
        "    if 0 <= new_row < 3 and 0 <= new_col < 3:\n",
        "      new_matrix = [list(row) for row in matrix]\n",
        "      new_matrix[empty_row][empty_col], new_matrix[new_row][new_col] = \\\n",
        "          new_matrix[new_row][new_col], new_matrix[empty_row][empty_col]\n",
        "      moves.append(tuple(tuple(row) for row in new_matrix))\n",
        "\n",
        "  return moves"
      ],
      "metadata": {
        "id": "LiNKy0Y1DdYe"
      },
      "execution_count": 5,
      "outputs": []
    },
    {
      "cell_type": "code",
      "source": [
        "\n",
        "def dfs(start_state, goal_state):\n",
        "  \"\"\"Perform Depth-First Search (DFS) to find a solution path.\"\"\"\n",
        "  stack = [(start_state, [start_state])]\n",
        "  visited = set()\n",
        "\n",
        "  while stack:\n",
        "    current_state, path = stack.pop()\n",
        "\n",
        "    if current_state == goal_state:\n",
        "      return path\n",
        "\n",
        "    visited.add(current_state)\n",
        "\n",
        "    for next_state in get_moves(current_state):\n",
        "      if next_state not in visited:\n",
        "        stack.append((next_state, path + [next_state]))\n",
        "\n",
        "  return None"
      ],
      "metadata": {
        "id": "2y5D_-DaGyjR"
      },
      "execution_count": 6,
      "outputs": []
    },
    {
      "cell_type": "code",
      "source": [
        "\n",
        "def main():\n",
        " \"\"\"Main function to take input and execute the DFS algorithm.\"\"\"\n",
        " start_state = input(\"Enter start State: \")\n",
        " goal_state = input(\"Enter goal State: \")\n",
        " start_tuple = state_to_tuple(start_state)\n",
        " goal_tuple = state_to_tuple(goal_state)\n",
        " print(\"-----------------\")\n",
        " print(\"DFS Algorithm\")\n",
        " print(\"-----------------\")\n",
        " start_time = time.time()\n",
        " solution_path = dfs(start_tuple, goal_tuple)\n",
        " end_time = time.time()\n",
        " if solution_path:\n",
        "  print(\"Time taken:\", end_time - start_time, \"seconds\")\n",
        "  print(\"Path Cost:\", len(solution_path))\n",
        "  print(\"No of Nodes Visited:\", len(solution_path) + 1)\n",
        "  for state in solution_path:\n",
        "    for row in state:\n",
        "      print(' '.join(row))\n",
        "    print(\"-----\")\n",
        " else:\n",
        "  print(\"No solution found.\")\n",
        "if __name__ == \"__main__\":\n",
        " main()"
      ],
      "metadata": {
        "colab": {
          "base_uri": "https://localhost:8080/"
        },
        "id": "fteytBl650Ol",
        "outputId": "80b0afe5-4ace-4e0f-bfd9-4fc4f7511b63"
      },
      "execution_count": 7,
      "outputs": [
        {
          "output_type": "stream",
          "name": "stdout",
          "text": [
            "Enter start State: 120345678\n",
            "Enter goal State: 012345678\n",
            "-----------------\n",
            "DFS Algorithm\n",
            "-----------------\n",
            "Time taken: 6.222724914550781e-05 seconds\n",
            "Path Cost: 3\n",
            "No of Nodes Visited: 4\n",
            "1 2 0\n",
            "3 4 5\n",
            "6 7 8\n",
            "-----\n",
            "1 0 2\n",
            "3 4 5\n",
            "6 7 8\n",
            "-----\n",
            "0 1 2\n",
            "3 4 5\n",
            "6 7 8\n",
            "-----\n"
          ]
        }
      ]
    },
    {
      "cell_type": "markdown",
      "source": [
        "## Question 3"
      ],
      "metadata": {
        "id": "YcUItaezKWOT"
      }
    },
    {
      "cell_type": "code",
      "source": [
        "from collections import deque"
      ],
      "metadata": {
        "id": "33UBrYbALAe7"
      },
      "execution_count": 8,
      "outputs": []
    },
    {
      "cell_type": "code",
      "source": [
        "class Graph:\n",
        "    def __init__(self, adjacency_list):\n",
        "        self.adjacency_list = adjacency_list\n",
        "    def get_neighbors(self, v):\n",
        "        return self.adjacency_list[v]\n",
        "\n",
        "    def h(self, n):\n",
        "        H = {\n",
        "            'The': 4,\n",
        "            'cat': 3,\n",
        "            'dog': 3,\n",
        "            'runs': 2,\n",
        "            'fast': 1,\n",
        "        }\n",
        "        return H.get(n, 0)\n",
        "    def a_star_algorithm(self, start_node, stop_node):\n",
        "        \"\"\"Implements the A* search algorithm to find the optimal path.\"\"\"\n",
        "        open_list = set([start_node])\n",
        "        closed_list = set([])\n",
        "        g = {}\n",
        "        g[start_node] = 0\n",
        "\n",
        "        parents = {}\n",
        "        parents[start_node] = start_node\n",
        "\n",
        "        while len(open_list) > 0:\n",
        "            n = None\n",
        "            for v in open_list:\n",
        "                if n == None or g[v] + self.h(v) < g[n] + self.h(n):\n",
        "                    n = v\n",
        "            if n == None:\n",
        "                print(\"Path does not exist!\")\n",
        "                return None\n",
        "            if n == stop_node:\n",
        "                path = []\n",
        "                while parents[n] != n:\n",
        "                    path.append(n)\n",
        "                    n = parents[n]\n",
        "                path.append(start_node)\n",
        "                path.reverse()\n",
        "                print('Sentence:', ' '.join(path))\n",
        "                print('Total cost :', g[stop_node])\n",
        "                return path\n",
        "            open_list.remove(n)\n",
        "            closed_list.add(n)\n",
        "            for (m, weight) in self.get_neighbors(n):\n",
        "                if m not in open_list and m not in closed_list:\n",
        "                    open_list.add(m)\n",
        "                    parents[m] = n\n",
        "                    g[m] = g[n] + weight\n",
        "                else:\n",
        "                    if g[m] > g[n] + weight:\n",
        "                        g[m] = g[n] + weight\n",
        "                        parents[m] = n\n",
        "                        if m in closed_list:\n",
        "                            closed_list.remove(m)\n",
        "                            open_list.add(m)\n",
        "\n",
        "        print(\"Path does not exist!\")\n",
        "        return None"
      ],
      "metadata": {
        "id": "WzYH3i1HOYjd"
      },
      "execution_count": 18,
      "outputs": []
    },
    {
      "cell_type": "code",
      "source": [
        "adjacency_list = {\n",
        "       'The': [('cat', 1), ('dog', 2)],\n",
        "       'cat': [('runs', 2)],\n",
        "       'dog': [('runs', 3)],\n",
        "       'runs': [('fast', 1)],\n",
        "       'fast': []\n",
        "   }"
      ],
      "metadata": {
        "id": "Exl9mtPcOn4B"
      },
      "execution_count": 21,
      "outputs": []
    },
    {
      "cell_type": "code",
      "source": [
        "\n",
        "\n",
        "\n",
        "graph1 = Graph(adjacency_list)\n",
        "graph1.a_star_algorithm('The','fast') # Define start and goal words"
      ],
      "metadata": {
        "colab": {
          "base_uri": "https://localhost:8080/"
        },
        "id": "ls9WCEqxGepB",
        "outputId": "65290d99-1779-4384-84a3-1aa4a1a16806"
      },
      "execution_count": 23,
      "outputs": [
        {
          "output_type": "stream",
          "name": "stdout",
          "text": [
            "Sentence: The cat runs fast\n",
            "Total cost : 4\n"
          ]
        },
        {
          "output_type": "execute_result",
          "data": {
            "text/plain": [
              "['The', 'cat', 'runs', 'fast']"
            ]
          },
          "metadata": {},
          "execution_count": 23
        }
      ]
    },
    {
      "cell_type": "code",
      "source": [],
      "metadata": {
        "id": "A0xxFWYJOr4n"
      },
      "execution_count": null,
      "outputs": []
    }
  ]
}