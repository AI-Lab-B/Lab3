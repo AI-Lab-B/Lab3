{
  "nbformat": 4,
  "nbformat_minor": 0,
  "metadata": {
    "colab": {
      "provenance": []
    },
    "kernelspec": {
      "name": "python3",
      "display_name": "Python 3"
    },
    "language_info": {
      "name": "python"
    }
  },
  "cells": [
    {
      "cell_type": "code",
      "execution_count": 2,
      "metadata": {
        "colab": {
          "base_uri": "https://localhost:8080/"
        },
        "id": "oETBsr3TfpQo",
        "outputId": "002dd94a-91ce-4f2b-b0ce-edba06445ea3"
      },
      "outputs": [
        {
          "output_type": "stream",
          "name": "stdout",
          "text": [
            "Shortest Path: [(1, 1), (2, 1), (2, 2), (2, 3), (3, 3), (4, 3), (4, 4)]\n"
          ]
        }
      ],
      "source": [
        "from collections import deque\n",
        "\n",
        "def find_shortest_path(matrix):\n",
        "    directions = [(-1, 0), (1, 0), (0, -1), (0, 1)]\n",
        "\n",
        "    start = (1, 1)\n",
        "    end = (4, 4)\n",
        "\n",
        "    row, col = len(matrix), len(matrix[0])\n",
        "\n",
        "    queue = deque([(start, [start])])\n",
        "    visited = set()\n",
        "    visited.add(start)\n",
        "\n",
        "    while queue:\n",
        "        (x, y), path = queue.popleft()\n",
        "\n",
        "        if (x, y) == end:\n",
        "            return path\n",
        "\n",
        "        for dx, dy in directions:\n",
        "            x2, y2 = x + dx, y + dy\n",
        "            if 0 <= x2 < row and 0 <= y2 < col and matrix[x2][y2] != 1 and (x2, y2) not in visited:\n",
        "                queue.append(((x2, y2), path + [(x2, y2)]))\n",
        "                visited.add((x2, y2))\n",
        "\n",
        "    return None\n",
        "\n",
        "grid = [\n",
        "    [0, 1, 0, 0, 1, 0, 0],\n",
        "    [0, 1, 0, 0, 1, 0, 0],\n",
        "    [0, 0, 0, 0, 1, 0, 0],\n",
        "    [0, 0, 1, 0, 1, 0, 0],\n",
        "    [0, 0, 1, 0, 0, 0, 0],\n",
        "    [0, 0, 1, 0, 0, 0, 0],\n",
        "    [0, 0, 1, 0, 0, 0, 0]\n",
        "]\n",
        "\n",
        "path1 = find_shortest_path(grid)\n",
        "if path1:\n",
        "    print(\"Shortest Path:\", path1)\n",
        "else:\n",
        "    print(\"No path found\")\n"
      ]
    },
    {
      "cell_type": "code",
      "source": [
        "import time\n",
        "\n",
        "def dfs_8_puzzle():\n",
        "    start_state = input(\"Enter start State: \")\n",
        "    goal_state = input(\"Enter goal State: \")\n",
        "\n",
        "    start_tuple = tuple(start_state[i:i+3] for i in range(0, 9, 3))\n",
        "    goal_tuple = tuple(goal_state[i:i+3] for i in range(0, 9, 3))\n",
        "\n",
        "    print(\"DFS Algorithm\")\n",
        "\n",
        "    start_time = time.time()\n",
        "    stack = [(start_tuple, [])]\n",
        "    visited = set()\n",
        "    visited.add(start_tuple)\n",
        "\n",
        "    while stack:\n",
        "        current_state, path = stack.pop()\n",
        "        if current_state == goal_tuple:\n",
        "            end_time = time.time()\n",
        "            print(\"Time taken:\", end_time - start_time, \"seconds\")\n",
        "            print(\"Path Cost:\", len(path))\n",
        "            print(\"No of Nodes Visited:\", len(visited))\n",
        "            for state in path:\n",
        "                for row in state:\n",
        "                    print(' '.join(row))\n",
        "                print(\"------\")\n",
        "            return\n",
        "\n",
        "        matrix = [list(row) for row in current_state]\n",
        "        zero_pos = [(i, j) for i in range(3) for j in range(3) if matrix[i][j] == '0'][0]\n",
        "        i, j = zero_pos\n",
        "        directions = [(-1, 0), (1, 0), (0, -1), (0, 1)]\n",
        "\n",
        "        for di, dj in directions:\n",
        "            ni, nj = i + di, j + dj\n",
        "            if 0 <= ni < 3 and 0 <= nj < 3:\n",
        "                new_matrix = [row[:] for row in matrix]\n",
        "                new_matrix[i][j], new_matrix[ni][nj] = new_matrix[ni][nj], new_matrix[i][j]\n",
        "                new_state = tuple(tuple(row) for row in new_matrix)\n",
        "                if new_state not in visited:\n",
        "                    stack.append((new_state, path + [new_state]))\n",
        "                    visited.add(new_state)\n",
        "\n",
        "    print(\"No solution found.\")\n",
        "\n",
        "if __name__ == \"__main__\":\n",
        "    dfs_8_puzzle()"
      ],
      "metadata": {
        "id": "FVT8i1zCg3Pq"
      },
      "execution_count": null,
      "outputs": []
    },
    {
      "cell_type": "code",
      "source": [
        "from heapq import heappop, heappush\n",
        "\n",
        "def a_star_sentence_completion(graph, heuristic, start, goal):\n",
        "    open_list = []\n",
        "    heappush(open_list, (heuristic[start], 0, start, [start]))\n",
        "    closed_set = set()\n",
        "\n",
        "    while open_list:\n",
        "        _, g, current, path = heappop(open_list)\n",
        "\n",
        "        if current == goal:\n",
        "            print(\"Sentence:\", \" \".join(path))\n",
        "            print(\"Total cost:\", g)\n",
        "            return\n",
        "\n",
        "        closed_set.add(current)\n",
        "\n",
        "        for neighbor, cost in graph.get(current, []):\n",
        "            if neighbor in closed_set:\n",
        "                continue\n",
        "            new_g = g + cost\n",
        "            f = new_g + heuristic.get(neighbor, float('inf'))\n",
        "            heappush(open_list, (f, new_g, neighbor, path + [neighbor]))\n",
        "\n",
        "    print(\"Path does not exist!\")\n",
        "\n",
        "graph = {\n",
        "    \"The\": [(\"cat\", 2), (\"dog\", 2)],\n",
        "    \"cat\": [(\"runs\", 2)],\n",
        "    \"dog\": [(\"runs\", 3)],\n",
        "    \"runs\": [(\"fast\", 2)]\n",
        "}\n",
        "\n",
        "heuristic = {\"The\": 4, \"cat\": 3, \"dog\": 3, \"runs\": 2, \"fast\": 1}\n",
        "\n",
        "a_star_sentence_completion(graph, heuristic, \"The\", \"fast\")\n"
      ],
      "metadata": {
        "id": "NUtagTt4qGLm"
      },
      "execution_count": null,
      "outputs": []
    },
    {
      "cell_type": "markdown",
      "source": [],
      "metadata": {
        "id": "62n40DCgqA38"
      }
    }
  ]
}