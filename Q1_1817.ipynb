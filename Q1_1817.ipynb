{
  "nbformat": 4,
  "nbformat_minor": 0,
  "metadata": {
    "colab": {
      "provenance": []
    },
    "kernelspec": {
      "name": "python3",
      "display_name": "Python 3"
    },
    "language_info": {
      "name": "python"
    }
  },
  "cells": [
    {
      "cell_type": "code",
      "execution_count": 4,
      "metadata": {
        "colab": {
          "base_uri": "https://localhost:8080/"
        },
        "id": "_h6R9bqD8QWq",
        "outputId": "052a621c-508d-48a5-c4eb-32fbccca6f2e"
      },
      "outputs": [
        {
          "output_type": "stream",
          "name": "stdout",
          "text": [
            "Shortest Path: [(0, 0), (1, 0), (2, 0), (2, 1), (2, 2), (2, 3), (3, 3)]\n"
          ]
        }
      ],
      "source": [
        "from collections import deque\n",
        "\n",
        "def find_shortest_path(matrix):\n",
        "    directions = [(-1, 0), (1, 0), (0, -1), (0, 1)]\n",
        "\n",
        "    start = (0, 0)\n",
        "    end = (3, 3)\n",
        "\n",
        "    rows, cols = len(matrix), len(matrix[0])\n",
        "    queue = deque([(start, [start])])\n",
        "    visited = set()\n",
        "    visited.add(start)\n",
        "\n",
        "    while queue:\n",
        "        (x, y), path = queue.popleft()\n",
        "\n",
        "        if (x, y) == end:\n",
        "            return path\n",
        "\n",
        "        for dx, dy in directions:\n",
        "            nx, ny = x + dx, y + dy\n",
        "            if 0 <= nx < rows and 0 <= ny < cols and matrix[nx][ny] == 0 and (nx, ny) not in visited:\n",
        "                queue.append(((nx, ny), path + [(nx, ny)]))\n",
        "                visited.add((nx, ny))\n",
        "\n",
        "    return None\n",
        "\n",
        "def main():\n",
        "    matrix = [\n",
        "        [0, 0, 0, 0],\n",
        "        [0, 1, 1, 0],\n",
        "        [0, 0, 0, 0],\n",
        "        [1, 1, 1, 0]\n",
        "    ]\n",
        "    path = find_shortest_path(matrix)\n",
        "    if path:\n",
        "        print(\"Shortest Path:\", path)\n",
        "    else:\n",
        "        print(\"No path found.\")\n",
        "\n",
        "if __name__ == \"__main__\":\n",
        "    main()"
      ]
    }
  ]
}