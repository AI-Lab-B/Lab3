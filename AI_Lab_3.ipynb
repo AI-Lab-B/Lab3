{
  "nbformat": 4,
  "nbformat_minor": 0,
  "metadata": {
    "colab": {
      "provenance": []
    },
    "kernelspec": {
      "name": "python3",
      "display_name": "Python 3"
    },
    "language_info": {
      "name": "python"
    }
  },
  "cells": [
    {
      "cell_type": "code",
      "execution_count": null,
      "metadata": {
        "colab": {
          "base_uri": "https://localhost:8080/"
        },
        "id": "Doq8FGeKzhGR",
        "outputId": "a0705838-9073-4834-c724-90605843fed1"
      },
      "outputs": [
        {
          "output_type": "stream",
          "name": "stdout",
          "text": [
            "Shortest path: [[(1, 0), (1, 0), (1, 0), (0, 1), (0, 1), (0, 1)]]\n"
          ]
        }
      ],
      "source": [
        "from collections import deque\n",
        "def find_shortest_path(matrix):\n",
        "\n",
        "    directions = [(-1, 0), (1, 0), (0, -1), (0, 1)]\n",
        "    start = (1, 1)\n",
        "    end = (4, 4)\n",
        "\n",
        "    queue = deque([(start, [])])\n",
        "    visited = set()\n",
        "    visited.add(start)\n",
        "\n",
        "\n",
        "    while queue:\n",
        "        currentState, path = queue.popleft()\n",
        "\n",
        "        if currentState == end:\n",
        "          return [path]\n",
        "\n",
        "        for direction in directions:\n",
        "            n_row = currentState[0] + direction[0]\n",
        "            n_col = currentState[1] + direction[1]\n",
        "            n_position = (n_row, n_col)\n",
        "\n",
        "            if (0 <= n_row < len(matrix) and\n",
        "                0 <= n_col < len(matrix[0]) and\n",
        "                n_position not in visited and\n",
        "                matrix[n_row][n_col] == 0):\n",
        "                queue.append((n_position, path + [direction]))\n",
        "                visited.add(n_position)\n",
        "    return None\n",
        "matrix = [\n",
        "    [0, 0, 0, 0, 0],\n",
        "    [0, 0, 0, 0, 0],\n",
        "    [0, 0, 0, 0, 0],\n",
        "    [0, 0, 0, 0, 0],\n",
        "    [0, 0, 0, 0, 0]\n",
        "]\n",
        "path = find_shortest_path(matrix)\n",
        "print(f\"Shortest path: {path}\")"
      ]
    },
    {
      "cell_type": "code",
      "source": [
        "import time\n",
        "\n",
        "def state_to_tuple(state):\n",
        "    return tuple(tuple(int(state[i * 3 + j]) for j in range(3)) for i in range(3))\n",
        "\n",
        "def tuple_to_state(matrix):\n",
        "    return ''.join(str(matrix[i][j]) for i in range(3) for j in range(3))\n",
        "\n",
        "def find_blank(matrix):\n",
        "    for i in range(3):\n",
        "        for j in range(3):\n",
        "            if matrix[i][j] == 0:\n",
        "                return i, j\n",
        "\n",
        "def get_moves(matrix):\n",
        "    moves = []\n",
        "    blank_row, blank_col = find_blank(matrix)\n",
        "    directions = [(-1, 0), (1, 0), (0, -1), (0, 1)]\n",
        "\n",
        "    for dr, dc in directions:\n",
        "        new_row, new_col = blank_row + dr, blank_col + dc\n",
        "        if 0 <= new_row < 3 and 0 <= new_col < 3:\n",
        "            new_matrix = [list(row) for row in matrix]\n",
        "            new_matrix[blank_row][blank_col], new_matrix[new_row][new_col] = (\n",
        "                new_matrix[new_row][new_col],\n",
        "                new_matrix[blank_row][blank_col],\n",
        "            )\n",
        "            moves.append(tuple(tuple(row) for row in new_matrix))\n",
        "    return moves\n",
        "\n",
        "def dfs(start_state, goal_state):\n",
        "    stack = [(start_state, [])]\n",
        "    visited = set()\n",
        "\n",
        "    while stack:\n",
        "        current_state, path = stack.pop()\n",
        "        if current_state == goal_state:\n",
        "            return path\n",
        "        visited.add(current_state)\n",
        "        for move in get_moves(current_state):\n",
        "            if move not in visited:\n",
        "                stack.append((move, path + [move]))\n",
        "\n",
        "    return None\n",
        "\n",
        "def main():\n",
        "    start_state = input(\"Enter start State: \")\n",
        "    goal_state = input(\"Enter goal State: \")\n",
        "\n",
        "    start_tuple = state_to_tuple(start_state)\n",
        "    goal_tuple = state_to_tuple(goal_state)\n",
        "\n",
        "    print(\"-----------------\")\n",
        "    print(\"DFS Algorithm\")\n",
        "    print(\"-----------------\")\n",
        "\n",
        "    start_time = time.time()\n",
        "    solution_path = dfs(start_tuple, goal_tuple)\n",
        "    end_time = time.time()\n",
        "\n",
        "    if solution_path:\n",
        "        print(\"Time taken:\", end_time - start_time, \"seconds\")\n",
        "        print(\"Path Cost:\", len(solution_path))\n",
        "        print(\"No of Nodes Visited:\", len(solution_path) + 1)\n",
        "\n",
        "        for state in solution_path:\n",
        "            for row in state:\n",
        "                print(' '.join(map(str, row)))\n",
        "            print(\"------\")\n",
        "    else:\n",
        "        print(\"No solution found.\")\n",
        "\n",
        "if __name__ == \"__main__\":\n",
        "    main()\n"
      ],
      "metadata": {
        "colab": {
          "base_uri": "https://localhost:8080/",
          "height": 321
        },
        "id": "fdBSfMYNDLu8",
        "outputId": "8c8ed5a9-4e6b-463c-cb23-1891369f20fe"
      },
      "execution_count": 35,
      "outputs": [
        {
          "output_type": "error",
          "ename": "KeyboardInterrupt",
          "evalue": "Interrupted by user",
          "traceback": [
            "\u001b[0;31m---------------------------------------------------------------------------\u001b[0m",
            "\u001b[0;31mKeyboardInterrupt\u001b[0m                         Traceback (most recent call last)",
            "\u001b[0;32m<ipython-input-35-595e3f27ba86>\u001b[0m in \u001b[0;36m<cell line: 0>\u001b[0;34m()\u001b[0m\n\u001b[1;32m     72\u001b[0m \u001b[0;34m\u001b[0m\u001b[0m\n\u001b[1;32m     73\u001b[0m \u001b[0;32mif\u001b[0m \u001b[0m__name__\u001b[0m \u001b[0;34m==\u001b[0m \u001b[0;34m\"__main__\"\u001b[0m\u001b[0;34m:\u001b[0m\u001b[0;34m\u001b[0m\u001b[0;34m\u001b[0m\u001b[0m\n\u001b[0;32m---> 74\u001b[0;31m     \u001b[0mmain\u001b[0m\u001b[0;34m(\u001b[0m\u001b[0;34m)\u001b[0m\u001b[0;34m\u001b[0m\u001b[0;34m\u001b[0m\u001b[0m\n\u001b[0m",
            "\u001b[0;32m<ipython-input-35-595e3f27ba86>\u001b[0m in \u001b[0;36mmain\u001b[0;34m()\u001b[0m\n\u001b[1;32m     45\u001b[0m \u001b[0;34m\u001b[0m\u001b[0m\n\u001b[1;32m     46\u001b[0m \u001b[0;32mdef\u001b[0m \u001b[0mmain\u001b[0m\u001b[0;34m(\u001b[0m\u001b[0;34m)\u001b[0m\u001b[0;34m:\u001b[0m\u001b[0;34m\u001b[0m\u001b[0;34m\u001b[0m\u001b[0m\n\u001b[0;32m---> 47\u001b[0;31m     \u001b[0mstart_state\u001b[0m \u001b[0;34m=\u001b[0m \u001b[0minput\u001b[0m\u001b[0;34m(\u001b[0m\u001b[0;34m\"Enter start State: \"\u001b[0m\u001b[0;34m)\u001b[0m\u001b[0;34m\u001b[0m\u001b[0;34m\u001b[0m\u001b[0m\n\u001b[0m\u001b[1;32m     48\u001b[0m     \u001b[0mgoal_state\u001b[0m \u001b[0;34m=\u001b[0m \u001b[0minput\u001b[0m\u001b[0;34m(\u001b[0m\u001b[0;34m\"Enter goal State: \"\u001b[0m\u001b[0;34m)\u001b[0m\u001b[0;34m\u001b[0m\u001b[0;34m\u001b[0m\u001b[0m\n\u001b[1;32m     49\u001b[0m \u001b[0;34m\u001b[0m\u001b[0m\n",
            "\u001b[0;32m/usr/local/lib/python3.11/dist-packages/ipykernel/kernelbase.py\u001b[0m in \u001b[0;36mraw_input\u001b[0;34m(self, prompt)\u001b[0m\n\u001b[1;32m    849\u001b[0m                 \u001b[0;34m\"raw_input was called, but this frontend does not support input requests.\"\u001b[0m\u001b[0;34m\u001b[0m\u001b[0;34m\u001b[0m\u001b[0m\n\u001b[1;32m    850\u001b[0m             )\n\u001b[0;32m--> 851\u001b[0;31m         return self._input_request(str(prompt),\n\u001b[0m\u001b[1;32m    852\u001b[0m             \u001b[0mself\u001b[0m\u001b[0;34m.\u001b[0m\u001b[0m_parent_ident\u001b[0m\u001b[0;34m,\u001b[0m\u001b[0;34m\u001b[0m\u001b[0;34m\u001b[0m\u001b[0m\n\u001b[1;32m    853\u001b[0m             \u001b[0mself\u001b[0m\u001b[0;34m.\u001b[0m\u001b[0m_parent_header\u001b[0m\u001b[0;34m,\u001b[0m\u001b[0;34m\u001b[0m\u001b[0;34m\u001b[0m\u001b[0m\n",
            "\u001b[0;32m/usr/local/lib/python3.11/dist-packages/ipykernel/kernelbase.py\u001b[0m in \u001b[0;36m_input_request\u001b[0;34m(self, prompt, ident, parent, password)\u001b[0m\n\u001b[1;32m    893\u001b[0m             \u001b[0;32mexcept\u001b[0m \u001b[0mKeyboardInterrupt\u001b[0m\u001b[0;34m:\u001b[0m\u001b[0;34m\u001b[0m\u001b[0;34m\u001b[0m\u001b[0m\n\u001b[1;32m    894\u001b[0m                 \u001b[0;31m# re-raise KeyboardInterrupt, to truncate traceback\u001b[0m\u001b[0;34m\u001b[0m\u001b[0;34m\u001b[0m\u001b[0m\n\u001b[0;32m--> 895\u001b[0;31m                 \u001b[0;32mraise\u001b[0m \u001b[0mKeyboardInterrupt\u001b[0m\u001b[0;34m(\u001b[0m\u001b[0;34m\"Interrupted by user\"\u001b[0m\u001b[0;34m)\u001b[0m \u001b[0;32mfrom\u001b[0m \u001b[0;32mNone\u001b[0m\u001b[0;34m\u001b[0m\u001b[0;34m\u001b[0m\u001b[0m\n\u001b[0m\u001b[1;32m    896\u001b[0m             \u001b[0;32mexcept\u001b[0m \u001b[0mException\u001b[0m \u001b[0;32mas\u001b[0m \u001b[0me\u001b[0m\u001b[0;34m:\u001b[0m\u001b[0;34m\u001b[0m\u001b[0;34m\u001b[0m\u001b[0m\n\u001b[1;32m    897\u001b[0m                 \u001b[0mself\u001b[0m\u001b[0;34m.\u001b[0m\u001b[0mlog\u001b[0m\u001b[0;34m.\u001b[0m\u001b[0mwarning\u001b[0m\u001b[0;34m(\u001b[0m\u001b[0;34m\"Invalid Message:\"\u001b[0m\u001b[0;34m,\u001b[0m \u001b[0mexc_info\u001b[0m\u001b[0;34m=\u001b[0m\u001b[0;32mTrue\u001b[0m\u001b[0;34m)\u001b[0m\u001b[0;34m\u001b[0m\u001b[0;34m\u001b[0m\u001b[0m\n",
            "\u001b[0;31mKeyboardInterrupt\u001b[0m: Interrupted by user"
          ]
        }
      ]
    },
    {
      "cell_type": "code",
      "source": [
        "from collections import defaultdict\n",
        "\n",
        "class Graph:\n",
        "    def __init__(self, adj_list):\n",
        "        self.adj_list = adj_list\n",
        "\n",
        "    def get_neighbors(self, v):\n",
        "        return self.adj_list[v]\n",
        "\n",
        "    def h(self, n):\n",
        "        H = {\n",
        "            \"The\": 4,\n",
        "            \"cat\": 3,\n",
        "            \"dog\": 3,\n",
        "            \"leopard\": 3,\n",
        "            \"runs\": 2,\n",
        "            \"fast\": 1\n",
        "        }\n",
        "        return H[n]\n",
        "\n",
        "    def a_star_algorithm(self, start_node, stop_node):\n",
        "        open_list = set([start_node])\n",
        "        closed_list = set([])\n",
        "\n",
        "        g = {}\n",
        "        g[start_node] = 0\n",
        "\n",
        "        parents = {}\n",
        "        parents[start_node] = None\n",
        "\n",
        "        while len(open_list) > 0:\n",
        "            n = None\n",
        "            for node in open_list:\n",
        "                if n is None or g[node] + self.h(node) < g[n] + self.h(n):\n",
        "                    n = node\n",
        "\n",
        "            if n is None:\n",
        "                print(\"Path does not exist!\")\n",
        "                return None\n",
        "\n",
        "            if n == stop_node:\n",
        "                path = []\n",
        "                while n is not None:\n",
        "                    path.append(n)\n",
        "                    n = parents[n]\n",
        "                path.reverse()\n",
        "\n",
        "                print(\"Sentence:\", \" \".join(path))\n",
        "                print(\"Total cost:\", g[stop_node])\n",
        "                return path\n",
        "\n",
        "            for (neighbor, cost) in self.get_neighbors(n):\n",
        "                if neighbor not in open_list and neighbor not in closed_list:\n",
        "                    open_list.add(neighbor)\n",
        "                    parents[neighbor] = n\n",
        "                    g[neighbor] = g[n] + cost\n",
        "                else:\n",
        "                    if g[neighbor] > g[n] + cost:\n",
        "                        g[neighbor] = g[n] + cost\n",
        "                        parents[neighbor] = n\n",
        "\n",
        "                        if neighbor in closed_list:\n",
        "                            closed_list.remove(neighbor)\n",
        "                            open_list.add(neighbor)\n",
        "\n",
        "            open_list.remove(n)\n",
        "            closed_list.add(n)\n",
        "\n",
        "        print(\"Path does not exist!\")\n",
        "        return None\n",
        "\n",
        "adj_list = {\n",
        "    \"The\": [(\"cat\", 1), (\"dog\", 2), (\"leopard\", 3)],\n",
        "    \"leopard\":[(\"runs\", 2)],\n",
        "    \"cat\": [(\"runs\", 2)],\n",
        "    \"dog\": [(\"runs\", 2)],\n",
        "    \"runs\": [(\"fast\", 1)],\n",
        "    \"fast\": []\n",
        "}\n",
        "\n",
        "graph1 = Graph(adj_list)\n",
        "graph1.a_star_algorithm(\"The\", \"fast\")"
      ],
      "metadata": {
        "colab": {
          "base_uri": "https://localhost:8080/"
        },
        "id": "rkpQ6rg5C3aP",
        "outputId": "b23150cf-6e74-4438-852d-13bd75ba744b"
      },
      "execution_count": 34,
      "outputs": [
        {
          "output_type": "stream",
          "name": "stdout",
          "text": [
            "Sentence: The cat runs fast\n",
            "Total cost: 4\n"
          ]
        },
        {
          "output_type": "execute_result",
          "data": {
            "text/plain": [
              "['The', 'cat', 'runs', 'fast']"
            ]
          },
          "metadata": {},
          "execution_count": 34
        }
      ]
    }
  ]
}