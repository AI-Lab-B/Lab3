{
  "nbformat": 4,
  "nbformat_minor": 0,
  "metadata": {
    "colab": {
      "provenance": []
    },
    "kernelspec": {
      "name": "python3",
      "display_name": "Python 3"
    },
    "language_info": {
      "name": "python"
    }
  },
  "cells": [
    {
      "cell_type": "code",
      "execution_count": 1,
      "metadata": {
        "colab": {
          "base_uri": "https://localhost:8080/"
        },
        "id": "F5A_M0gBS5T9",
        "outputId": "53578f91-3d3b-4b63-8ed9-146768753206"
      },
      "outputs": [
        {
          "output_type": "stream",
          "name": "stdout",
          "text": [
            "[(0, 0), (1, 0), (2, 0), (3, 0), (3, 1), (3, 2), (3, 3)]\n"
          ]
        }
      ],
      "source": [
        "from collections import deque\n",
        "\n",
        "def get_neighbours(node, directions):\n",
        "    n = []\n",
        "    for x1, y1 in directions:\n",
        "        dx, dy = node[0] + x1, node[1] + y1\n",
        "        if 0 <= dx < 4 and 0 <= dy < 4:\n",
        "            n.append((dx, dy))\n",
        "    return n\n",
        "\n",
        "def shortest_path():\n",
        "    start=(0,0)\n",
        "    end=(4,4)\n",
        "    dir = [(-1, 0), (1, 0), (0, -1), (0, 1)]\n",
        "    queue = deque([[start]])\n",
        "    visited = set([start])\n",
        "    while queue:\n",
        "        path = queue.popleft()\n",
        "        node = path[-1]\n",
        "        if node == end:\n",
        "            return path\n",
        "        for neighbor in get_neighbours(node, dir):\n",
        "            if neighbor not in visited:\n",
        "                queue.append(path + [neighbor])\n",
        "                visited.add(neighbor)\n",
        "    return []\n",
        "\n",
        "print(shortest_path())\n"
      ]
    },
    {
      "cell_type": "code",
      "source": [
        "from collections import deque\n",
        "\n",
        "class Graph:  #taken from sample code given in lab\n",
        "    def __init__(self, adjacency_list):\n",
        "        self.adjacency_list = adjacency_list\n",
        "\n",
        "    def get_neighbors(self, v):\n",
        "        return self.adjacency_list.get(v, [])\n",
        "\n",
        "    def h(self, n):\n",
        "        H = {    \"The\": 4,  \"cat\": 3, \"dog\": 3, \"runs\": 2, \"fast\": 1}\n",
        "        return H.get(n, float('inf'))\n",
        "\n",
        "    def a_star_algorithm(s, startnode, stopnode):\n",
        "        open_list = set([startnode])\n",
        "        closed_list = set([])\n",
        "        g = {startnode: 0}\n",
        "        parents = {startnode: None}\n",
        "        while open_list:\n",
        "            n = min(open_list, key=lambda x: g[x] + s.h(x))\n",
        "\n",
        "            if n == stopnode:\n",
        "                path = []\n",
        "                while n is not None:\n",
        "                    path.append(n)\n",
        "                    n = parents[n]\n",
        "                path.reverse()\n",
        "                print(\"Sentence:\", \" \".join(path))\n",
        "                print(\"Total cost:\", g[stopnode])\n",
        "                return path\n",
        "\n",
        "            open_list.remove(n)\n",
        "            closed_list.add(n)\n",
        "\n",
        "            for (neighbor, cost) in s.get_neighbors(n):\n",
        "                if neighbor in closed_list:\n",
        "                    continue\n",
        "                tentative_g = g[n] + cost\n",
        "                if neighbor not in open_list or tentative_g < g.get(neighbor, float('inf')):\n",
        "                    g[neighbor] = tentative_g\n",
        "                    parents[neighbor] = n\n",
        "                    open_list.add(neighbor)\n",
        "\n",
        "\n",
        "        print(\"Path does not exist!\")\n",
        "        return None\n",
        "     #   return None\n",
        "\n",
        "graph_data = {\n",
        "    \"The\": [(\"cat\", 2), (\"dog\", 2)],\n",
        "    \"cat\": [(\"runs\", 2)],\n",
        "    \"dog\": [(\"runs\", 2)],\n",
        "    \"runs\": [(\"fast\", 2)],\n",
        "    \"fast\": []\n",
        "}\n",
        "\n",
        "graph = Graph(graph_data)\n",
        "graph.a_star_algorithm(\"The\", \"Fast\")"
      ],
      "metadata": {
        "colab": {
          "base_uri": "https://localhost:8080/"
        },
        "id": "O-721uyVUPV0",
        "outputId": "02bd1f98-f45f-434d-e69f-d66f2bdc57f5"
      },
      "execution_count": 7,
      "outputs": [
        {
          "output_type": "stream",
          "name": "stdout",
          "text": [
            "Path does not exist!\n"
          ]
        }
      ]
    },
    {
      "cell_type": "code",
      "source": [
        "import time\n",
        "from collections import deque\n",
        "\n",
        "def get_n(s): #basically gets neighbours check which move is valid\n",
        "    neighbors = []\n",
        "    zero_idx = s.index('0')\n",
        "    moves = { 'up': -3,'down': 3, 'left': -1,'right': 1  }\n",
        "    for move, delta in moves.items():\n",
        "        new_idx = zero_idx + delta\n",
        "        if move == 'left' and zero_idx % 3 == 0:\n",
        "            continue\n",
        "        if move == 'right' and zero_idx % 3 == 2:\n",
        "            continue\n",
        "        if 0 <= new_idx < 9:\n",
        "            new_state = list(s)\n",
        "            new_state[zero_idx], new_state[new_idx] = new_state[new_idx], new_state[zero_idx]\n",
        "            neighbors.append(\"\".join(new_state))\n",
        "    return neighbors\n",
        "\n",
        "\n",
        "def print_p(s):\n",
        "\n",
        "    for i in range(0, 9, 3):\n",
        "        print(*s[i:i+3])\n",
        "    print(\"------\")\n",
        "\n",
        "def dfs_algorithm(s, g):\n",
        "    start_time = time.time()\n",
        "    visited = set()\n",
        "    stack = [(s, [])]\n",
        "    while stack:\n",
        "        state, path = stack.pop()\n",
        "        if state in visited:\n",
        "            continue\n",
        "        visited.add(state)\n",
        "\n",
        "        if state == goal:\n",
        "            end_time = time.time()\n",
        "            print(\"-----------------\")\n",
        "            print(f\"time taken: {end_time - start_time} seconds\")\n",
        "            print(f\"path cost: {len(path)}\")\n",
        "            print(f\"Visited: {len(visited)}\")\n",
        "            print(\"-----------------\")\n",
        "            for step in path + [state]:\n",
        "                print_p(step)\n",
        "            return\n",
        "        for neighbor in get_n(state):\n",
        "            stack.append((neighbor, path + [state]))\n",
        "\n",
        "#main call\n",
        "if __name__ == \"__main__\":\n",
        "    start = input(\"---------enter your initial state-----: \")\n",
        "    goal = input(\"-------enter your final state : \")\n",
        "    dfs_algorithm(start, goal)"
      ],
      "metadata": {
        "id": "_RRLc8gyUynQ"
      },
      "execution_count": null,
      "outputs": []
    }
  ]
}