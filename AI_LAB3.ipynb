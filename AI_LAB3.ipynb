{
  "nbformat": 4,
  "nbformat_minor": 0,
  "metadata": {
    "colab": {
      "provenance": []
    },
    "kernelspec": {
      "name": "python3",
      "display_name": "Python 3"
    },
    "language_info": {
      "name": "python"
    }
  },
  "cells": [
    {
      "cell_type": "code",
      "execution_count": 10,
      "metadata": {
        "colab": {
          "base_uri": "https://localhost:8080/"
        },
        "id": "PSOMt5WY1OuA",
        "outputId": "15132ea1-4155-4aa0-b230-922fee52c1dc"
      },
      "outputs": [
        {
          "output_type": "stream",
          "name": "stdout",
          "text": [
            "Shortest Path:  [(0, 0), (1, 0), (2, 0), (3, 0), (3, 1), (3, 2), (3, 3)]\n"
          ]
        }
      ],
      "source": [
        "from collections import deque\n",
        "\n",
        "def find_shortest_path(matrix):\n",
        "  #Directions: Up,Down,Left,Right\n",
        "  directions=[(-1,0),(1,0),(0,-1),(0,1)]\n",
        "  start=(0,0)\n",
        "  end=(3,3)\n",
        "  queue=deque([(start,[start])])\n",
        "\n",
        "  visited=set()\n",
        "\n",
        "  visited.add(start)\n",
        "  while queue:\n",
        "    (x,y),path=queue.popleft()\n",
        "\n",
        "    if(x,y)==end:\n",
        "      return path\n",
        "    for dx,dy in directions:\n",
        "      nx,ny= x+ dx,y +dy\n",
        "      if 0<= nx < len(matrix) and 0<=ny < len(matrix[0]) and (nx,ny) not in visited:\n",
        "        queue.append(((nx,ny),path + [(nx,ny)]))\n",
        "        visited.add((nx,ny))\n",
        "\n",
        "  return None\n",
        "\n",
        "\n",
        "matrix=[[0,0,0,0,0],\n",
        "        [0,0,0,0,0],\n",
        "        [0,0,1,1,0],\n",
        "        [0,0,0,0,0],\n",
        "        [0,0,0,0,0]]\n",
        "\n",
        "path= find_shortest_path(matrix)\n",
        "if path:\n",
        "  print(\"Shortest Path: \",path)\n",
        "\n",
        "\n",
        "\n",
        "\n",
        ""
      ]
    },
    {
      "cell_type": "code",
      "source": [
        "import time\n",
        "from collections import deque\n",
        "\n",
        "def state_to_tuple(state):\n",
        "  return tuple(state[i:i+3] for i in range(0,9,3))\n",
        "\n",
        "def tuple_to_state(matrix):\n",
        "  return ''.join(''.join(row) for row in matrix)\n",
        "\n",
        "def get_moves(matrix):\n",
        "  moves=[]\n",
        "  rows,cols= len(matrix), len(matrix[0])\n",
        "  zero_position=[(r,c) for r in range(rows) for c in range(cols) if matrix[r][c]=='0'][0]\n",
        "  r,c=zero_position\n",
        "  directions=[(-1,0),(1,0),(0,-1),(0,1)]\n",
        "  for dr,dc in directions:\n",
        "    nr,nc=r+dr,c+dc\n",
        "    if 0<=nr<rows and 0<=nc<cols:\n",
        "      new_matrix=[list(row) for row in matrix]\n",
        "      new_matrix[r][c],new_matrix[nr][nc]=new_matrix[nr][nc],new_matrix[r][c]\n",
        "      moves.append(state_to_tuple(''.join(''.join(row) for row in new_matrix)))\n",
        "  return moves\n",
        "\n",
        "def dfs(start_state,goal_state):\n",
        "  stack,visited= [(start_state,[])], set()\n",
        "  visited.add(start_state)\n",
        "\n",
        "  while stack:\n",
        "    state,path=stack.pop()\n",
        "    if state==goal_state:\n",
        "      return path\n",
        "    for move in get_moves(state):\n",
        "      if move not in visited:\n",
        "        stack.append((move,path+[move]))\n",
        "        visited.add(move)\n",
        "  return None\n",
        "\n",
        "def main():\n",
        "  start_state=input(\"Enter start state\")\n",
        "  goal_state=input(\"Enter goal state\")\n",
        "\n",
        "  start_state=state_to_tuple(start_state)\n",
        "  goal_state=state_to_tuple(goal_state)\n",
        "\n",
        "  print(\"------------------\")\n",
        "  print(\"Starting DFS\")\n",
        "  print(\"------------------\")\n",
        "\n",
        "  start_time=time.time()\n",
        "  solution_path=dfs(start_state,goal_state)\n",
        "  end_time=time.time()\n",
        "\n",
        "  if solution_path:\n",
        "    print(\"Time Taken: \",end_time-start_time,\" seconds\")\n",
        "    print(\"Path Cost: \",len(solution_path))\n",
        "    print(\"No of nodes visited:\",len(solution_path)+1)\n",
        "    for state in solution_path:\n",
        "      for row in state:\n",
        "        print(''.join(row))\n",
        "      print(\"------------------\")\n",
        "  else:\n",
        "    print(\"No solution found\")\n",
        "\n",
        "if __name__==\"__main__\":\n",
        "  main()\n",
        "\n"
      ],
      "metadata": {
        "colab": {
          "base_uri": "https://localhost:8080/"
        },
        "id": "2TxC43cO-NCX",
        "outputId": "d7c21cbb-e69d-4b41-e50b-5b095e279c89"
      },
      "execution_count": 14,
      "outputs": [
        {
          "output_type": "stream",
          "name": "stdout",
          "text": [
            "Enter start state1 2 3 4 5 6 7 0 8\n",
            "Enter goal state1 2 3 4 5 6 7 8 0\n",
            "------------------\n",
            "Starting DFS\n",
            "------------------\n",
            "No solution found\n"
          ]
        }
      ]
    },
    {
      "cell_type": "code",
      "source": [],
      "metadata": {
        "id": "lozt4xUQL3kK"
      },
      "execution_count": null,
      "outputs": []
    }
  ]
}