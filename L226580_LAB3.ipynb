{
  "nbformat": 4,
  "nbformat_minor": 0,
  "metadata": {
    "colab": {
      "provenance": []
    },
    "kernelspec": {
      "name": "python3",
      "display_name": "Python 3"
    },
    "language_info": {
      "name": "python"
    }
  },
  "cells": [
    {
      "cell_type": "code",
      "execution_count": 7,
      "metadata": {
        "colab": {
          "base_uri": "https://localhost:8080/"
        },
        "id": "4leZMdoj0WMI",
        "outputId": "146717b9-a05b-4a44-febf-179933516359"
      },
      "outputs": [
        {
          "output_type": "stream",
          "name": "stdout",
          "text": [
            "Shortest path: [(0, 0), (1, 0), (2, 0), (3, 0), (3, 1), (3, 2)]\n"
          ]
        }
      ],
      "source": [
        "from collections import deque\n",
        "\n",
        "def find_shortest_path(matrix):\n",
        "    rows, cols = len(matrix), len(matrix[0])\n",
        "    directions = [(-1, 0), (1, 0), (0, -1), (0, 1)]\n",
        "    start = (0, 0)\n",
        "    end = (3, 2)\n",
        "    queue = deque([(start, [start])])\n",
        "    visited = set()\n",
        "\n",
        "\n",
        "    while queue:\n",
        "        (row, col), path = queue.popleft()\n",
        "        if (row, col) == end:\n",
        "            return path\n",
        "        visited.add((row, col))\n",
        "        for dr, dc in directions:\n",
        "            new_row, new_col = row + dr, col + dc\n",
        "            if (0 <= new_row < rows and 0 <= new_col < cols and matrix[new_row][new_col] != 0 and (new_row, new_col) not in visited):\n",
        "                queue.append(((new_row, new_col), path + [(new_row, new_col)]))  # Add to queue with updated path\n",
        "\n",
        "    return None\n",
        "\n",
        "matrix = [[1, 1, 1, 1],\n",
        "          [1, 0, 1, 1],\n",
        "          [1, 1, 0, 1],\n",
        "          [1, 1, 1, 1]]\n",
        "\n",
        "shortest_path = find_shortest_path(matrix)\n",
        "\n",
        "if shortest_path:\n",
        "    print(\"Shortest path:\", shortest_path)\n",
        "else:\n",
        "    print(\"No path found.\")"
      ]
    },
    {
      "cell_type": "code",
      "source": [
        "import time\n",
        "\n",
        "def state_to_tuple(state):\n",
        "    return tuple(state[i:i+3] for i in range(0, 9, 3))\n",
        "\n",
        "def tuple_to_state(matrix):\n",
        "    return ''.join(matrix[0]) + ''.join(matrix[1]) + ''.join(matrix[2])\n",
        "\n",
        "def get_moves(matrix):\n",
        "    moves = []\n",
        "    row, col = next((r, c) for r, row in enumerate(matrix) for c, val in enumerate(row) if val == '0')\n",
        "    for dr, dc in [(-1, 0), (1, 0), (0, -1), (0, 1)]:\n",
        "        new_row, new_col = row + dr, col + dc\n",
        "        if 0 <= new_row < 3 and 0 <= new_col < 3:\n",
        "            new_matrix = [list(row) for row in matrix]\n",
        "            new_matrix[row][col], new_matrix[new_row][new_col] = new_matrix[new_row][new_col], new_matrix[row][col]\n",
        "            moves.append(tuple(''.join(row) for row in new_matrix))\n",
        "    return moves\n",
        "\n",
        "def dfs(start_state, goal_state):\n",
        "    stack = [(start_state, [start_state])]\n",
        "    visited = set()\n",
        "    while stack:\n",
        "        current_state, path = stack.pop()\n",
        "        if current_state == goal_state:\n",
        "            return path\n",
        "        visited.add(current_state)\n",
        "        for next_state in get_moves(current_state):\n",
        "            if next_state not in visited:\n",
        "                stack.append((next_state, path + [next_state]))\n",
        "    return None\n",
        "\n",
        "def main():\n",
        "    start_state = input(\"Enter start State: \")\n",
        "    goal_state = input(\"Enter goal State: \")\n",
        "    start_tuple = state_to_tuple(start_state)\n",
        "    goal_tuple = state_to_tuple(goal_state)\n",
        "    print(\"-----------------\")\n",
        "    print(\"DFS Algorithm\")\n",
        "    print(\"-----------------\")\n",
        "    start_time = time.time()\n",
        "    solution_path = dfs(start_tuple, goal_tuple)\n",
        "    end_time = time.time()\n",
        "    if solution_path:\n",
        "        print(\"Time taken:\", end_time - start_time, \"seconds\")\n",
        "        print(\"Path Cost:\", len(solution_path) -1)\n",
        "        print(\"No of Node Visited:\", len(solution_path))\n",
        "        for state in solution_path:\n",
        "            for row in state:\n",
        "                print(' '.join(row))\n",
        "            print(\"-----\")\n",
        "    else:\n",
        "        print(\"No solution found.\")\n",
        "\n",
        "if __name__ == \"__main__\":\n",
        "    main()"
      ],
      "metadata": {
        "colab": {
          "base_uri": "https://localhost:8080/"
        },
        "id": "RMyH1L8f0mZZ",
        "outputId": "921c955a-9696-432a-a34c-28278cbaff1a"
      },
      "execution_count": 1,
      "outputs": [
        {
          "output_type": "stream",
          "name": "stdout",
          "text": [
            "Enter start State: 120345678\n",
            "Enter goal State: 012345678\n",
            "-----------------\n",
            "DFS Algorithm\n",
            "-----------------\n",
            "Time taken: 5.888938903808594e-05 seconds\n",
            "Path Cost: 2\n",
            "No of Node Visited: 3\n",
            "1 2 0\n",
            "3 4 5\n",
            "6 7 8\n",
            "-----\n",
            "1 0 2\n",
            "3 4 5\n",
            "6 7 8\n",
            "-----\n",
            "0 1 2\n",
            "3 4 5\n",
            "6 7 8\n",
            "-----\n"
          ]
        }
      ]
    },
    {
      "cell_type": "code",
      "source": [
        "from collections import deque\n",
        "\n",
        "class Graph:\n",
        "    def __init__(self, adjacency_list):\n",
        "        self.adjacency_list = adjacency_list\n",
        "    def get_neighbors(self, v):\n",
        "        return self.adjacency_list[v]\n",
        "\n",
        "    def h(self, n):\n",
        "        H = {\n",
        "            'The': 4,\n",
        "            'cat': 3,\n",
        "            'dog': 3,\n",
        "            'runs': 2,\n",
        "            'fast': 1,\n",
        "        }\n",
        "        return H.get(n, 0)\n",
        "    def a_star_algorithm(self, start_node, stop_node):\n",
        "        \"\"\"Implements the A* search algorithm to find the optimal path.\"\"\"\n",
        "        open_list = set([start_node])\n",
        "        closed_list = set([])\n",
        "        g = {}\n",
        "        g[start_node] = 0\n",
        "\n",
        "        parents = {}\n",
        "        parents[start_node] = start_node\n",
        "\n",
        "        while len(open_list) > 0:\n",
        "            n = None  # Current node\n",
        "            for v in open_list:\n",
        "                if n == None or g[v] + self.h(v) < g[n] + self.h(n):\n",
        "                    n = v\n",
        "            if n == None:\n",
        "                print(\"Path does not exist!\")\n",
        "                return None\n",
        "            if n == stop_node:\n",
        "                path = []\n",
        "                while parents[n] != n:\n",
        "                    path.append(n)\n",
        "                    n = parents[n]\n",
        "                path.append(start_node)\n",
        "                path.reverse()\n",
        "                print('Sentence:', ' '.join(path))\n",
        "                print('Total cost :', g[stop_node])\n",
        "                return path\n",
        "            open_list.remove(n)\n",
        "            closed_list.add(n)\n",
        "            for (m, weight) in self.get_neighbors(n):\n",
        "                if m not in open_list and m not in closed_list:\n",
        "                    open_list.add(m)\n",
        "                    parents[m] = n\n",
        "                    g[m] = g[n] + weight\n",
        "                else:\n",
        "                    if g[m] > g[n] + weight:\n",
        "                        g[m] = g[n] + weight\n",
        "                        parents[m] = n\n",
        "                        if m in closed_list:\n",
        "                            closed_list.remove(m)\n",
        "                            open_list.add(m)\n",
        "\n",
        "        print(\"Path does not exist!\")\n",
        "        return None\n",
        "\n",
        "# Example usage:\n",
        "adjacency_list = {\n",
        "    'The': [('cat', 1), ('dog', 2)],\n",
        "    'cat': [('runs', 2)],\n",
        "    'dog': [('runs', 3)],\n",
        "    'runs': [('fast', 1)],\n",
        "    'fast': [],\n",
        "}\n",
        "graph1 = Graph(adjacency_list)\n",
        "graph1.a_star_algorithm('The', 'fast')"
      ],
      "metadata": {
        "colab": {
          "base_uri": "https://localhost:8080/"
        },
        "id": "JBrQWt7h2szG",
        "outputId": "b11af0d4-61c9-4b46-8b9f-ceddeba7b139"
      },
      "execution_count": 2,
      "outputs": [
        {
          "output_type": "stream",
          "name": "stdout",
          "text": [
            "Sentence: The cat runs fast\n",
            "Total cost : 4\n"
          ]
        },
        {
          "output_type": "execute_result",
          "data": {
            "text/plain": [
              "['The', 'cat', 'runs', 'fast']"
            ]
          },
          "metadata": {},
          "execution_count": 2
        }
      ]
    }
  ]
}