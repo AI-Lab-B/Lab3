{
  "nbformat": 4,
  "nbformat_minor": 0,
  "metadata": {
    "colab": {
      "provenance": []
    },
    "kernelspec": {
      "name": "python3",
      "display_name": "Python 3"
    },
    "language_info": {
      "name": "python"
    }
  },
  "cells": [
    {
      "cell_type": "code",
      "execution_count": 3,
      "metadata": {
        "colab": {
          "base_uri": "https://localhost:8080/"
        },
        "id": "n2kboxEjHdlg",
        "outputId": "d3dcd703-3811-46c1-eb5a-12fc1e2ddf48"
      },
      "outputs": [
        {
          "output_type": "stream",
          "name": "stdout",
          "text": [
            "Enter start State: 120345678\n",
            "Enter goal State: 012345678\n",
            "----------------\n",
            "DFS Algorithm\n",
            "----------------\n",
            "Time taken: 3.814697265625e-05 seconds\n",
            "Path Cost: 2\n",
            "Number of Nodes Visited: 3\n",
            "1 2 0\n",
            "3 4 5\n",
            "6 7 8\n",
            "------\n",
            "1 0 2\n",
            "3 4 5\n",
            "6 7 8\n",
            "------\n",
            "0 1 2\n",
            "3 4 5\n",
            "6 7 8\n",
            "------\n"
          ]
        }
      ],
      "source": [
        "import time\n",
        "from collections import deque\n",
        "\n",
        "def state_to_tuple(state):\n",
        "    return tuple(state)\n",
        "\n",
        "def tuple_to_state(matrix):\n",
        "    return list(matrix)\n",
        "\n",
        "def get_moves(matrix):\n",
        "    moves = []\n",
        "    zero_idx = matrix.index(0)\n",
        "    row, col = zero_idx // 3, zero_idx % 3\n",
        "    directions = [(-1, 0), (1, 0), (0, -1), (0, 1)]\n",
        "\n",
        "    for dr, dc in directions:\n",
        "        nr, nc = row + dr, col + dc\n",
        "        if 0 <= nr < 3 and 0 <= nc < 3:\n",
        "            new_matrix = matrix[:]\n",
        "            swap_idx = nr * 3 + nc\n",
        "            new_matrix[zero_idx], new_matrix[swap_idx] = new_matrix[swap_idx], new_matrix[zero_idx]\n",
        "            moves.append(tuple(new_matrix))\n",
        "    return moves\n",
        "\n",
        "def dfs(start_state, goal_state):\n",
        "    stack = [(start_state, [])]\n",
        "    visited = set()\n",
        "\n",
        "    while stack:\n",
        "        state, path = stack.pop()\n",
        "        if state in visited:\n",
        "            continue\n",
        "        visited.add(state)\n",
        "        if state == goal_state:\n",
        "            return path + [state]\n",
        "        for move in get_moves(list(state)):\n",
        "            stack.append((move, path + [state]))\n",
        "    return None\n",
        "\n",
        "def main():\n",
        "    start_state = input(\"Enter start State: \")\n",
        "    goal_state = input(\"Enter goal State: \")\n",
        "    start_tuple = state_to_tuple(list(map(int, start_state)))\n",
        "    goal_tuple = state_to_tuple(list(map(int, goal_state)))\n",
        "    print(\"----------------\")\n",
        "    print(\"DFS Algorithm\")\n",
        "    print(\"----------------\")\n",
        "    start_time = time.time()\n",
        "    solution_path = dfs(start_tuple, goal_tuple)\n",
        "    end_time = time.time()\n",
        "    if solution_path:\n",
        "        print(\"Time taken:\", end_time - start_time, \"seconds\")\n",
        "        print(\"Path Cost:\", len(solution_path) - 1)\n",
        "        print(\"Number of Nodes Visited:\", len(solution_path))\n",
        "        for state in solution_path:\n",
        "            for i in range(0, 9, 3):\n",
        "                print(\" \".join(map(str, state[i:i+3])))\n",
        "            print(\"------\")\n",
        "    else:\n",
        "        print(\"No solution found.\")\n",
        "\n",
        "if __name__ == \"__main__\":\n",
        "    main()"
      ]
    }
  ]
}