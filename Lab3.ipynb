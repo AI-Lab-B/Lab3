{
  "nbformat": 4,
  "nbformat_minor": 0,
  "metadata": {
    "colab": {
      "provenance": []
    },
    "kernelspec": {
      "name": "python3",
      "display_name": "Python 3"
    },
    "language_info": {
      "name": "python"
    }
  },
  "cells": [
    {
      "cell_type": "code",
      "execution_count": 15,
      "metadata": {
        "colab": {
          "base_uri": "https://localhost:8080/"
        },
        "id": "NDrBFea73E2W",
        "outputId": "954e7cc5-b062-4f90-9131-c1ae8808a48c"
      },
      "outputs": [
        {
          "output_type": "stream",
          "name": "stdout",
          "text": [
            "[(0, 0), (1, 0), (2, 0), (3, 0), (3, 1), (3, 2), (3, 3)]\n"
          ]
        }
      ],
      "source": [
        "from collections import deque\n",
        "def getneighbour(node,directions):\n",
        "  arr = []\n",
        "  for dir in directions:\n",
        "    c =(0,0)\n",
        "    c = list(c)\n",
        "    c[0]=dir[0]+node[0]\n",
        "    c[1]=dir[1]+node[1]\n",
        "    c = tuple(c)\n",
        "    if(not(c[0]>3 or c[0]<0 or c[1]>3 or c[1]<0)):\n",
        "      arr.append(c)\n",
        "  return arr\n",
        "\n",
        "def shortest_path():\n",
        "  start = (0,0)\n",
        "  end = (3,3)\n",
        "  directions = [(-1, 0), (1, 0), (0, -1), (0, 1)]\n",
        "  path_list = [[start]]\n",
        "  path_index = 0\n",
        "  # To keep track of previously visited nodes\n",
        "  previous_nodes = {start}\n",
        "  if start == end:\n",
        "      return path_list[0]\n",
        "\n",
        "  while path_index < len(path_list):\n",
        "      current_path = path_list[path_index]\n",
        "      last_node = current_path[-1]\n",
        "      next_nodes = getneighbour(last_node,directions)\n",
        "      # Search goal node\n",
        "      if end in next_nodes:\n",
        "          current_path.append(end)\n",
        "          return current_path\n",
        "      # Add new paths\n",
        "      for next_node in next_nodes:\n",
        "          if not next_node in previous_nodes:\n",
        "              new_path = current_path[:]\n",
        "              new_path.append(next_node)\n",
        "              path_list.append(new_path)\n",
        "              # To avoid backtracking\n",
        "              previous_nodes.add(next_node)\n",
        "      # Continue to next path in list\n",
        "      path_index += 1\n",
        "  # No path is found\n",
        "  return []\n",
        "\n",
        "print(shortest_path())\n"
      ]
    },
    {
      "cell_type": "code",
      "source": [
        "\n",
        "import time\n",
        "# Helper function to convert a string state to a tuple representation\n",
        "def state_to_tuple(state):\n",
        "  return tuple(tuple(int(state[i * 3 + j]) for j in range(3)) for i in range(3))\n",
        "# Helper function to convert a tuple representation back to a string state\n",
        "def tuple_to_state(matrix):\n",
        "  return ''.join(str(matrix[i][j]) for i in range(3) for j in range(3))\n",
        "# Get all possible moves from a given state\n",
        "def get_moves(matrix):\n",
        "  moves = []\n",
        "  # Find the blank space (0)\n",
        "  blank_pos = [(i, j) for i in range(3) for j in range(3) ]\n",
        "  if matrix[i][j] == [0][0] :\n",
        "    x, y = blank_pos\n",
        "  # Possible directions for the blank space: up, down, left, right\n",
        "  directions = [(-1, 0), (1, 0), (0, -1), (0, 1)]\n",
        "  for dx, dy in directions:\n",
        "    new_x, new_y = x + dx, y + dy\n",
        "    # Check if the new position is within the grid bounds\n",
        "    if 0 <= new_x < 3 and 0 <= new_y < 3:\n",
        "      new_matrix = [list(row) for row in matrix]\n",
        "    # Swap blank space with the adjacent tile\n",
        "    new_matrix[x][y], new_matrix[new_x][new_y] = new_matrix[new_x][new_y], new_matrix[x][y]\n",
        "    moves.append(tuple(tuple(new_matrix[i][j] for j in range(3)) for i in range(3)))\n",
        "  return moves\n",
        "# DFS function to find the solution path\n",
        "def dfs(start_state, goal_state):\n",
        "  stack = [(start_state, [])]\n",
        "  # Stack of (current state, path taken to reach it)\n",
        "  visited = set()\n",
        "  # Set to keep track of visited states\n",
        "  visited.add(start_state)\n",
        "  while stack:\n",
        "    current_state, path = stack.pop()\n",
        "    if current_state == goal_state:\n",
        "      return path + [current_state]\n",
        "    # Explore the next possible moves\n",
        "    for next_state in get_moves(current_state):\n",
        "      if next_state not in visited:\n",
        "        visited.add(next_state)\n",
        "        stack.append((next_state, path + [current_state]))\n",
        "    return None # No solution found\n",
        "  # Main function to take input and execute DFS algorithm\n",
        "def main():\n",
        "  start_state = input(\"Enter start State: \")\n",
        "  goal_state = input(\"Enter goal State: \")\n",
        "  # Convert string inputs into tuple representation for easier manipulation\n",
        "  start_tuple = state_to_tuple(start_state)\n",
        "  goal_tuple = state_to_tuple(goal_state)\n",
        "  print(\"-----------------\")\n",
        "  print(\"DFS Algorithm\")\n",
        "  print(\"-----------------\")\n",
        "  # Record the start time of the DFS algorithm\n",
        "  start_time = time.time()\n",
        "  # Perform DFS to find the solution path\n",
        "  solution_path = dfs(start_tuple, goal_tuple)\n",
        "  # Record the end time of the DFS algorithm\n",
        "  end_time = time.time()\n",
        "  if solution_path:\n",
        "    print(\"Time taken:\", end_time - start_time, \"seconds\")\n",
        "    print(\"Path Cost:\", len(solution_path) - 1)\n",
        "    print(\"No of Nodes Visited:\", len(solution_path))\n",
        "    # Print the solution path for state in solution_path:\n",
        "    for row in state:\n",
        "      print(' '.join(map(str, row)))\n",
        "      print(\"-----\")\n",
        "  else: print(\"No solution found.\")\n",
        "  # Run the main function\n",
        "if __name__ == \"__main__\":\n",
        "   main()"
      ],
      "metadata": {
        "colab": {
          "base_uri": "https://localhost:8080/",
          "height": 356
        },
        "id": "REL1xWVANSgM",
        "outputId": "b7bd2b96-fd43-4504-cde5-a3dde01af1a4"
      },
      "execution_count": 30,
      "outputs": [
        {
          "name": "stdout",
          "output_type": "stream",
          "text": [
            "Enter start State: 1 2 3 4 5 6 7 0 8\n",
            "Enter goal State: 1 2 3 4 5 6 7 8 0\n"
          ]
        },
        {
          "output_type": "error",
          "ename": "ValueError",
          "evalue": "invalid literal for int() with base 10: ' '",
          "traceback": [
            "\u001b[0;31m---------------------------------------------------------------------------\u001b[0m",
            "\u001b[0;31mValueError\u001b[0m                                Traceback (most recent call last)",
            "\u001b[0;32m<ipython-input-30-92e7681f7a06>\u001b[0m in \u001b[0;36m<cell line: 0>\u001b[0;34m()\u001b[0m\n\u001b[1;32m     68\u001b[0m   \u001b[0;31m# Run the main function\u001b[0m\u001b[0;34m\u001b[0m\u001b[0;34m\u001b[0m\u001b[0m\n\u001b[1;32m     69\u001b[0m \u001b[0;32mif\u001b[0m \u001b[0m__name__\u001b[0m \u001b[0;34m==\u001b[0m \u001b[0;34m\"__main__\"\u001b[0m\u001b[0;34m:\u001b[0m\u001b[0;34m\u001b[0m\u001b[0;34m\u001b[0m\u001b[0m\n\u001b[0;32m---> 70\u001b[0;31m    \u001b[0mmain\u001b[0m\u001b[0;34m(\u001b[0m\u001b[0;34m)\u001b[0m\u001b[0;34m\u001b[0m\u001b[0;34m\u001b[0m\u001b[0m\n\u001b[0m",
            "\u001b[0;32m<ipython-input-30-92e7681f7a06>\u001b[0m in \u001b[0;36mmain\u001b[0;34m()\u001b[0m\n\u001b[1;32m     46\u001b[0m   \u001b[0mgoal_state\u001b[0m \u001b[0;34m=\u001b[0m \u001b[0minput\u001b[0m\u001b[0;34m(\u001b[0m\u001b[0;34m\"Enter goal State: \"\u001b[0m\u001b[0;34m)\u001b[0m\u001b[0;34m\u001b[0m\u001b[0;34m\u001b[0m\u001b[0m\n\u001b[1;32m     47\u001b[0m   \u001b[0;31m# Convert string inputs into tuple representation for easier manipulation\u001b[0m\u001b[0;34m\u001b[0m\u001b[0;34m\u001b[0m\u001b[0m\n\u001b[0;32m---> 48\u001b[0;31m   \u001b[0mstart_tuple\u001b[0m \u001b[0;34m=\u001b[0m \u001b[0mstate_to_tuple\u001b[0m\u001b[0;34m(\u001b[0m\u001b[0mstart_state\u001b[0m\u001b[0;34m)\u001b[0m\u001b[0;34m\u001b[0m\u001b[0;34m\u001b[0m\u001b[0m\n\u001b[0m\u001b[1;32m     49\u001b[0m   \u001b[0mgoal_tuple\u001b[0m \u001b[0;34m=\u001b[0m \u001b[0mstate_to_tuple\u001b[0m\u001b[0;34m(\u001b[0m\u001b[0mgoal_state\u001b[0m\u001b[0;34m)\u001b[0m\u001b[0;34m\u001b[0m\u001b[0;34m\u001b[0m\u001b[0m\n\u001b[1;32m     50\u001b[0m   \u001b[0mprint\u001b[0m\u001b[0;34m(\u001b[0m\u001b[0;34m\"-----------------\"\u001b[0m\u001b[0;34m)\u001b[0m\u001b[0;34m\u001b[0m\u001b[0;34m\u001b[0m\u001b[0m\n",
            "\u001b[0;32m<ipython-input-30-92e7681f7a06>\u001b[0m in \u001b[0;36mstate_to_tuple\u001b[0;34m(state)\u001b[0m\n\u001b[1;32m      2\u001b[0m \u001b[0;31m# Helper function to convert a string state to a tuple representation\u001b[0m\u001b[0;34m\u001b[0m\u001b[0;34m\u001b[0m\u001b[0m\n\u001b[1;32m      3\u001b[0m \u001b[0;32mdef\u001b[0m \u001b[0mstate_to_tuple\u001b[0m\u001b[0;34m(\u001b[0m\u001b[0mstate\u001b[0m\u001b[0;34m)\u001b[0m\u001b[0;34m:\u001b[0m\u001b[0;34m\u001b[0m\u001b[0;34m\u001b[0m\u001b[0m\n\u001b[0;32m----> 4\u001b[0;31m   \u001b[0;32mreturn\u001b[0m \u001b[0mtuple\u001b[0m\u001b[0;34m(\u001b[0m\u001b[0mtuple\u001b[0m\u001b[0;34m(\u001b[0m\u001b[0mint\u001b[0m\u001b[0;34m(\u001b[0m\u001b[0mstate\u001b[0m\u001b[0;34m[\u001b[0m\u001b[0mi\u001b[0m \u001b[0;34m*\u001b[0m \u001b[0;36m3\u001b[0m \u001b[0;34m+\u001b[0m \u001b[0mj\u001b[0m\u001b[0;34m]\u001b[0m\u001b[0;34m)\u001b[0m \u001b[0;32mfor\u001b[0m \u001b[0mj\u001b[0m \u001b[0;32min\u001b[0m \u001b[0mrange\u001b[0m\u001b[0;34m(\u001b[0m\u001b[0;36m3\u001b[0m\u001b[0;34m)\u001b[0m\u001b[0;34m)\u001b[0m \u001b[0;32mfor\u001b[0m \u001b[0mi\u001b[0m \u001b[0;32min\u001b[0m \u001b[0mrange\u001b[0m\u001b[0;34m(\u001b[0m\u001b[0;36m3\u001b[0m\u001b[0;34m)\u001b[0m\u001b[0;34m)\u001b[0m\u001b[0;34m\u001b[0m\u001b[0;34m\u001b[0m\u001b[0m\n\u001b[0m\u001b[1;32m      5\u001b[0m \u001b[0;31m# Helper function to convert a tuple representation back to a string state\u001b[0m\u001b[0;34m\u001b[0m\u001b[0;34m\u001b[0m\u001b[0m\n\u001b[1;32m      6\u001b[0m \u001b[0;32mdef\u001b[0m \u001b[0mtuple_to_state\u001b[0m\u001b[0;34m(\u001b[0m\u001b[0mmatrix\u001b[0m\u001b[0;34m)\u001b[0m\u001b[0;34m:\u001b[0m\u001b[0;34m\u001b[0m\u001b[0;34m\u001b[0m\u001b[0m\n",
            "\u001b[0;32m<ipython-input-30-92e7681f7a06>\u001b[0m in \u001b[0;36m<genexpr>\u001b[0;34m(.0)\u001b[0m\n\u001b[1;32m      2\u001b[0m \u001b[0;31m# Helper function to convert a string state to a tuple representation\u001b[0m\u001b[0;34m\u001b[0m\u001b[0;34m\u001b[0m\u001b[0m\n\u001b[1;32m      3\u001b[0m \u001b[0;32mdef\u001b[0m \u001b[0mstate_to_tuple\u001b[0m\u001b[0;34m(\u001b[0m\u001b[0mstate\u001b[0m\u001b[0;34m)\u001b[0m\u001b[0;34m:\u001b[0m\u001b[0;34m\u001b[0m\u001b[0;34m\u001b[0m\u001b[0m\n\u001b[0;32m----> 4\u001b[0;31m   \u001b[0;32mreturn\u001b[0m \u001b[0mtuple\u001b[0m\u001b[0;34m(\u001b[0m\u001b[0mtuple\u001b[0m\u001b[0;34m(\u001b[0m\u001b[0mint\u001b[0m\u001b[0;34m(\u001b[0m\u001b[0mstate\u001b[0m\u001b[0;34m[\u001b[0m\u001b[0mi\u001b[0m \u001b[0;34m*\u001b[0m \u001b[0;36m3\u001b[0m \u001b[0;34m+\u001b[0m \u001b[0mj\u001b[0m\u001b[0;34m]\u001b[0m\u001b[0;34m)\u001b[0m \u001b[0;32mfor\u001b[0m \u001b[0mj\u001b[0m \u001b[0;32min\u001b[0m \u001b[0mrange\u001b[0m\u001b[0;34m(\u001b[0m\u001b[0;36m3\u001b[0m\u001b[0;34m)\u001b[0m\u001b[0;34m)\u001b[0m \u001b[0;32mfor\u001b[0m \u001b[0mi\u001b[0m \u001b[0;32min\u001b[0m \u001b[0mrange\u001b[0m\u001b[0;34m(\u001b[0m\u001b[0;36m3\u001b[0m\u001b[0;34m)\u001b[0m\u001b[0;34m)\u001b[0m\u001b[0;34m\u001b[0m\u001b[0;34m\u001b[0m\u001b[0m\n\u001b[0m\u001b[1;32m      5\u001b[0m \u001b[0;31m# Helper function to convert a tuple representation back to a string state\u001b[0m\u001b[0;34m\u001b[0m\u001b[0;34m\u001b[0m\u001b[0m\n\u001b[1;32m      6\u001b[0m \u001b[0;32mdef\u001b[0m \u001b[0mtuple_to_state\u001b[0m\u001b[0;34m(\u001b[0m\u001b[0mmatrix\u001b[0m\u001b[0;34m)\u001b[0m\u001b[0;34m:\u001b[0m\u001b[0;34m\u001b[0m\u001b[0;34m\u001b[0m\u001b[0m\n",
            "\u001b[0;32m<ipython-input-30-92e7681f7a06>\u001b[0m in \u001b[0;36m<genexpr>\u001b[0;34m(.0)\u001b[0m\n\u001b[1;32m      2\u001b[0m \u001b[0;31m# Helper function to convert a string state to a tuple representation\u001b[0m\u001b[0;34m\u001b[0m\u001b[0;34m\u001b[0m\u001b[0m\n\u001b[1;32m      3\u001b[0m \u001b[0;32mdef\u001b[0m \u001b[0mstate_to_tuple\u001b[0m\u001b[0;34m(\u001b[0m\u001b[0mstate\u001b[0m\u001b[0;34m)\u001b[0m\u001b[0;34m:\u001b[0m\u001b[0;34m\u001b[0m\u001b[0;34m\u001b[0m\u001b[0m\n\u001b[0;32m----> 4\u001b[0;31m   \u001b[0;32mreturn\u001b[0m \u001b[0mtuple\u001b[0m\u001b[0;34m(\u001b[0m\u001b[0mtuple\u001b[0m\u001b[0;34m(\u001b[0m\u001b[0mint\u001b[0m\u001b[0;34m(\u001b[0m\u001b[0mstate\u001b[0m\u001b[0;34m[\u001b[0m\u001b[0mi\u001b[0m \u001b[0;34m*\u001b[0m \u001b[0;36m3\u001b[0m \u001b[0;34m+\u001b[0m \u001b[0mj\u001b[0m\u001b[0;34m]\u001b[0m\u001b[0;34m)\u001b[0m \u001b[0;32mfor\u001b[0m \u001b[0mj\u001b[0m \u001b[0;32min\u001b[0m \u001b[0mrange\u001b[0m\u001b[0;34m(\u001b[0m\u001b[0;36m3\u001b[0m\u001b[0;34m)\u001b[0m\u001b[0;34m)\u001b[0m \u001b[0;32mfor\u001b[0m \u001b[0mi\u001b[0m \u001b[0;32min\u001b[0m \u001b[0mrange\u001b[0m\u001b[0;34m(\u001b[0m\u001b[0;36m3\u001b[0m\u001b[0;34m)\u001b[0m\u001b[0;34m)\u001b[0m\u001b[0;34m\u001b[0m\u001b[0;34m\u001b[0m\u001b[0m\n\u001b[0m\u001b[1;32m      5\u001b[0m \u001b[0;31m# Helper function to convert a tuple representation back to a string state\u001b[0m\u001b[0;34m\u001b[0m\u001b[0;34m\u001b[0m\u001b[0m\n\u001b[1;32m      6\u001b[0m \u001b[0;32mdef\u001b[0m \u001b[0mtuple_to_state\u001b[0m\u001b[0;34m(\u001b[0m\u001b[0mmatrix\u001b[0m\u001b[0;34m)\u001b[0m\u001b[0;34m:\u001b[0m\u001b[0;34m\u001b[0m\u001b[0;34m\u001b[0m\u001b[0m\n",
            "\u001b[0;31mValueError\u001b[0m: invalid literal for int() with base 10: ' '"
          ]
        }
      ]
    },
    {
      "cell_type": "code",
      "source": [
        "from collections import deque\n",
        "class Graph:\n",
        " def __init__(self, adjacency_list):\n",
        "    \"\"\"Initializes the graph with an adjacency list.\"\"\"\n",
        "    self.adjacency_list = adjacency_list\n",
        " def get_neighbors(self, v):\n",
        "  \"\"\"Returns the neighbors of a given node.\"\"\"\n",
        "  return self.adjacency_list.get(v,[])\n",
        " def h(self, n):\n",
        "    \"\"\"Heuristic function: estimates the cost from node n to the goal.\"\"\"\n",
        "    H = { \"The\":4 , \"cat\":3,\"dog\":3,\"runs\":2,\"fast\":1}\n",
        "    return H.get(n,float('inf'))\n",
        " def a_star_algorithm(self, start_node, stop_node):\n",
        "  \"\"\"Implements the A* search algorithm to find the optimal path.\"\"\"\n",
        "  open_list = set([start_node])\n",
        "  closed_list = set([])\n",
        "\n",
        "  g = {start_node:0} # Cost from start node to all other nodes\n",
        "  f = {start_node:4}\n",
        "  parents = {start_node:start_node} # Keeps track of paths\n",
        "  while len(open_list) > 0:\n",
        "    n = None # Current node\n",
        "\n",
        "    # Find the node with the lowest f(n) = g(n) + h(n)\n",
        "    for node in open_list:\n",
        "      if n is None or f[node] < f[n]:\n",
        "        n = node\n",
        "\n",
        "    if n == None:\n",
        "      print(\"Path does not exist!\")\n",
        "      return None\n",
        "\n",
        "    # If goal node is found, reconstruct and return the path\n",
        "    #print the path found\n",
        "    if n == stop_node:\n",
        "      reconst_path = []\n",
        "      while parents[n] !=n:\n",
        "        reconst_path.append(n)\n",
        "        n = parents[n]\n",
        "        reconst_path.append(start_node)\n",
        "        reconst_path.reverse()\n",
        "        print(\"Path Found\",','.join(reconst_path))\n",
        "        return reconst_path\n",
        "\n",
        "    # Explore all neighbors of the current node\n",
        "    for neighbor in self.get_neighbors(n):\n",
        "      if neighbor in closed_list:\n",
        "        continue\n",
        "      tentative_g = g[n]+1\n",
        "      # Update costs, parents, and move nodes between lists\n",
        "    if neighbor not in open_list:\n",
        "      open_list.add(neighbor)\n",
        "    elif tentative_g >= g.get(neighbor,float('inf')):\n",
        "      continue\n",
        "    parents[neighbor]=n\n",
        "    g[neighbor]=tentative_g\n",
        "    f[neighbor]= g[neighbor]+self.h[neighbor]\n",
        "  open_list.remove(n)\n",
        "  closed_list.add(n)\n",
        "  print(\"Path does not exist!\")\n",
        "  return None\n",
        "# Define the graph given in adjacency list\n",
        "adjacency_list = {\"The\":[\"cat\",\"dog\"],\"cat\":[\"runs\"],\"dog\":[\"runs\"],\"runs\":[\"fast\"],\"fast\":[]}\n",
        "graph1 = Graph(adjacency_list)\n",
        "graph1.a_star_algorithm(\"The\", \"fast\") # Define start and goal words"
      ],
      "metadata": {
        "colab": {
          "base_uri": "https://localhost:8080/",
          "height": 297
        },
        "id": "7frnhfQ_Bi8x",
        "outputId": "c8ae32af-351f-4183-abc6-d5882d386b8c"
      },
      "execution_count": 22,
      "outputs": [
        {
          "output_type": "error",
          "ename": "KeyError",
          "evalue": "'dog'",
          "traceback": [
            "\u001b[0;31m---------------------------------------------------------------------------\u001b[0m",
            "\u001b[0;31mKeyError\u001b[0m                                  Traceback (most recent call last)",
            "\u001b[0;32m<ipython-input-22-4327e6ed60ed>\u001b[0m in \u001b[0;36m<cell line: 0>\u001b[0;34m()\u001b[0m\n\u001b[1;32m     63\u001b[0m \u001b[0madjacency_list\u001b[0m \u001b[0;34m=\u001b[0m \u001b[0;34m{\u001b[0m\u001b[0;34m\"The\"\u001b[0m\u001b[0;34m:\u001b[0m\u001b[0;34m[\u001b[0m\u001b[0;34m\"cat\"\u001b[0m\u001b[0;34m,\u001b[0m\u001b[0;34m\"dog\"\u001b[0m\u001b[0;34m]\u001b[0m\u001b[0;34m,\u001b[0m\u001b[0;34m\"cat\"\u001b[0m\u001b[0;34m:\u001b[0m\u001b[0;34m[\u001b[0m\u001b[0;34m\"runs\"\u001b[0m\u001b[0;34m]\u001b[0m\u001b[0;34m,\u001b[0m\u001b[0;34m\"dog\"\u001b[0m\u001b[0;34m:\u001b[0m\u001b[0;34m[\u001b[0m\u001b[0;34m\"runs\"\u001b[0m\u001b[0;34m]\u001b[0m\u001b[0;34m,\u001b[0m\u001b[0;34m\"runs\"\u001b[0m\u001b[0;34m:\u001b[0m\u001b[0;34m[\u001b[0m\u001b[0;34m\"fast\"\u001b[0m\u001b[0;34m]\u001b[0m\u001b[0;34m,\u001b[0m\u001b[0;34m\"fast\"\u001b[0m\u001b[0;34m:\u001b[0m\u001b[0;34m[\u001b[0m\u001b[0;34m]\u001b[0m\u001b[0;34m}\u001b[0m\u001b[0;34m\u001b[0m\u001b[0;34m\u001b[0m\u001b[0m\n\u001b[1;32m     64\u001b[0m \u001b[0mgraph1\u001b[0m \u001b[0;34m=\u001b[0m \u001b[0mGraph\u001b[0m\u001b[0;34m(\u001b[0m\u001b[0madjacency_list\u001b[0m\u001b[0;34m)\u001b[0m\u001b[0;34m\u001b[0m\u001b[0;34m\u001b[0m\u001b[0m\n\u001b[0;32m---> 65\u001b[0;31m \u001b[0mgraph1\u001b[0m\u001b[0;34m.\u001b[0m\u001b[0ma_star_algorithm\u001b[0m\u001b[0;34m(\u001b[0m\u001b[0;34m\"The\"\u001b[0m\u001b[0;34m,\u001b[0m \u001b[0;34m\"fast\"\u001b[0m\u001b[0;34m)\u001b[0m \u001b[0;31m# Define start and goal words\u001b[0m\u001b[0;34m\u001b[0m\u001b[0;34m\u001b[0m\u001b[0m\n\u001b[0m",
            "\u001b[0;32m<ipython-input-22-4327e6ed60ed>\u001b[0m in \u001b[0;36ma_star_algorithm\u001b[0;34m(self, start_node, stop_node)\u001b[0m\n\u001b[1;32m     24\u001b[0m     \u001b[0;31m# Find the node with the lowest f(n) = g(n) + h(n)\u001b[0m\u001b[0;34m\u001b[0m\u001b[0;34m\u001b[0m\u001b[0m\n\u001b[1;32m     25\u001b[0m     \u001b[0;32mfor\u001b[0m \u001b[0mnode\u001b[0m \u001b[0;32min\u001b[0m \u001b[0mopen_list\u001b[0m\u001b[0;34m:\u001b[0m\u001b[0;34m\u001b[0m\u001b[0;34m\u001b[0m\u001b[0m\n\u001b[0;32m---> 26\u001b[0;31m       \u001b[0;32mif\u001b[0m \u001b[0mn\u001b[0m \u001b[0;32mis\u001b[0m \u001b[0;32mNone\u001b[0m \u001b[0;32mor\u001b[0m \u001b[0mf\u001b[0m\u001b[0;34m[\u001b[0m\u001b[0mnode\u001b[0m\u001b[0;34m]\u001b[0m\u001b[0;34m<\u001b[0m\u001b[0mf\u001b[0m\u001b[0;34m[\u001b[0m\u001b[0mn\u001b[0m\u001b[0;34m]\u001b[0m\u001b[0;34m:\u001b[0m\u001b[0;34m\u001b[0m\u001b[0;34m\u001b[0m\u001b[0m\n\u001b[0m\u001b[1;32m     27\u001b[0m         \u001b[0mn\u001b[0m \u001b[0;34m=\u001b[0m \u001b[0mnode\u001b[0m\u001b[0;34m\u001b[0m\u001b[0;34m\u001b[0m\u001b[0m\n\u001b[1;32m     28\u001b[0m \u001b[0;34m\u001b[0m\u001b[0m\n",
            "\u001b[0;31mKeyError\u001b[0m: 'dog'"
          ]
        }
      ]
    }
  ]
}